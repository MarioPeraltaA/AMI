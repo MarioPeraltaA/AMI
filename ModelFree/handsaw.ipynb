{
 "cells": [
  {
   "cell_type": "code",
   "execution_count": 1,
   "metadata": {},
   "outputs": [],
   "source": [
    "from HC import Profile\n",
    "\n",
    "profile = Profile()\n",
    "v_data = profile.read_voltage_profile()\n",
    "p_data = profile.read_load_profile()\n"
   ]
  },
  {
   "cell_type": "markdown",
   "metadata": {},
   "source": [
    "Write `.Json` loadshape files for each costumer"
   ]
  },
  {
   "cell_type": "code",
   "execution_count": 2,
   "metadata": {},
   "outputs": [],
   "source": [
    "ckt = profile.set_daily_Edemand()\n",
    "typical_curves = profile.set_curve_name_file()\n",
    "profile.write_json(ckt, \"./daily.json\")\n",
    "profile.write_json(typical_curves, \"./edemand.json\")"
   ]
  },
  {
   "cell_type": "markdown",
   "metadata": {},
   "source": [
    "### Sensitivity Analisys"
   ]
  },
  {
   "cell_type": "code",
   "execution_count": 17,
   "metadata": {},
   "outputs": [],
   "source": [
    "from scipy import stats\n",
    "import matplotlib.pyplot as plt\n",
    "import numpy as np\n",
    "\n",
    "# TxID = \"TRA24198\"    # Group 1 (missing one meter)\n",
    "# TxID = \"TRA1624\"       # Group 3\n",
    "TxID = \"TRA21089\"    # Group 2\n",
    "\n",
    "loads = profile.call_loads()\n",
    "Txs = profile._loads[\"Transformador\"]\n",
    "ind = [n for (n, T) in enumerate(Txs) if T == TxID]\n",
    "metersID = [profile._loads[\"Medidor\"][m] for m in ind]\n"
   ]
  },
  {
   "cell_type": "code",
   "execution_count": 18,
   "metadata": {},
   "outputs": [
    {
     "data": {
      "text/plain": [
       "26"
      ]
     },
     "execution_count": 18,
     "metadata": {},
     "output_type": "execute_result"
    }
   ],
   "source": [
    "len(metersID)"
   ]
  },
  {
   "cell_type": "code",
   "execution_count": 52,
   "metadata": {},
   "outputs": [
    {
     "data": {
      "text/plain": [
       "'TRA1624'"
      ]
     },
     "execution_count": 52,
     "metadata": {},
     "output_type": "execute_result"
    }
   ],
   "source": [
    "Txs[profile._loads[\"Medidor\"].index(\"ME244896\")]"
   ]
  },
  {
   "cell_type": "markdown",
   "metadata": {},
   "source": [
    "One arbitrary costumer `ME244896` connected to transformer `TRA1624`"
   ]
  },
  {
   "cell_type": "code",
   "execution_count": 5,
   "metadata": {},
   "outputs": [],
   "source": [
    "# m = \"ME244896\"\n",
    "# profiles = profile.sort_profile()\n",
    "# Vs = [v for v in profiles[m][\"Voltage\"]]\n",
    "# Ps = [p for p in profiles[m][\"Active\"]]\n",
    "\n",
    "# Ps = np.array(Ps)\n",
    "# Vs = np.array(Vs) / 240\n",
    "# reg = stats.linregress(Ps, Vs)\n",
    "# b = reg.intercept\n",
    "# m = reg.slope\n",
    "# p = np.linspace(-7, 5, 100)\n",
    "# plt.figure(figsize=(8, 2))\n",
    "# plt.plot(Ps, Vs, 'o')\n",
    "# plt.plot(p, m*p + b, \"orange\")\n",
    "# plt.plot(-5.5005005005005, 1.0499420994949833, \"o\")\n",
    "# # plt.title('H.C. Vmax')\n",
    "# plt.xlabel('[kW]')\n",
    "# plt.ylabel('[Vpu]')\n",
    "# plt.legend([\"V\",\n",
    "#             \"linear fit\",\n",
    "#             \"(-5.5, 1.05)\"])\n",
    "# # plt.savefig(\"ME244896.pdf\")\n",
    "# plt.show()\n"
   ]
  },
  {
   "cell_type": "code",
   "execution_count": 6,
   "metadata": {},
   "outputs": [],
   "source": [
    "# p = np.linspace(-7, 0, 1000)\n",
    "# b = reg.intercept\n",
    "# m = reg.slope\n",
    "\n",
    "# y = lambda x: m*x + b\n",
    "# v = list(map(y, p))\n",
    "# for n, V in enumerate(v):\n",
    "#     if 1.0499 < V < 1.05:\n",
    "#         print(V, p[n])\n",
    "#     # if 0.95 < V < 0.9501:\n",
    "#     #     print(V, p[n])\n"
   ]
  },
  {
   "cell_type": "code",
   "execution_count": 16,
   "metadata": {},
   "outputs": [
    {
     "data": {
      "image/png": "[encoded data removed]",
      "text/plain": [
       "<Figure size 800x200 with 1 Axes>"
      ]
     },
     "metadata": {},
     "output_type": "display_data"
    }
   ],
   "source": [
    "VPmax = profile.daily_Vmax(min_samples=85)\n",
    "Pmax = []\n",
    "Vmax = []\n",
    "oddmeters = []\n",
    "for m in metersID:\n",
    "    if m in VPmax:\n",
    "        Pmax += VPmax[m][\"Pmax\"]\n",
    "        Vmax += VPmax[m][\"Vmax\"]\n",
    "    else:\n",
    "        oddmeters.append(m)\n",
    "\n",
    "Pmax = np.array(Pmax)\n",
    "Vmax = np.array(Vmax) / 240       # p.u.\n",
    "reg = stats.linregress(Pmax, Vmax)\n",
    "b = reg.intercept\n",
    "m = reg.slope\n",
    "p = np.linspace(-300, 10, 100)\n",
    "plt.figure(figsize=(8, 2))\n",
    "plt.plot(Pmax, Vmax, 'o')\n",
    "plt.plot(p, m*p + b, \"orange\")\n",
    "plt.plot(-219.98199819982, 0.9500167128824086, \"o\")\n",
    "\n",
    "plt.title('H.C. ModelFree Vmax')\n",
    "plt.xlabel('[kW]')\n",
    "plt.ylabel('[Vpu]')\n",
    "plt.legend([\"V\",\n",
    "            \"linear fit\",\n",
    "            \"(-219.98, 1.05)\"])\n",
    "plt.savefig(\"regfullG3.pdf\")\n",
    "plt.show()"
   ]
  },
  {
   "cell_type": "code",
   "execution_count": 15,
   "metadata": {},
   "outputs": [
    {
     "name": "stdout",
     "output_type": "stream",
     "text": [
      "0.9500167128824086 -219.98199819982\n",
      "0.9500354188876157 -219.92199219921991\n",
      "0.9500541248928226 -219.86198619861986\n",
      "0.9500728308980295 -219.8019801980198\n",
      "0.9500915369032366 -219.74197419741975\n"
     ]
    }
   ],
   "source": [
    "p = np.linspace(-400, 200, 10000)\n",
    "\n",
    "y = lambda x: m*x + b\n",
    "v = list(map(y, p))\n",
    "for n, V in enumerate(v):\n",
    "    # if 1.0499 < V < 1.05:\n",
    "    #     print(V, p[n])\n",
    "    if 0.95 < V < 0.9501:\n",
    "        print(V, p[n])"
   ]
  },
  {
   "cell_type": "markdown",
   "metadata": {},
   "source": [
    "Full sensitivity analisys"
   ]
  },
  {
   "cell_type": "code",
   "execution_count": 4,
   "metadata": {},
   "outputs": [
    {
     "data": {
      "image/png": "[encoded data removed]",
      "text/plain": [
       "<Figure size 800x200 with 1 Axes>"
      ]
     },
     "metadata": {},
     "output_type": "display_data"
    }
   ],
   "source": [
    "# Get max data\n",
    "Vmax_P = profile.full_daily_Vmax()\n",
    "m_labels = profile.rename_meter()\n",
    "meters_i = [m_labels[m] for m in metersID]\n",
    "Pmax = []\n",
    "for meter in meters_i:\n",
    "    if meter in Vmax_P:\n",
    "        Pmax += Vmax_P[meter][\"Pmax\"]\n",
    "    else:\n",
    "        print(f\"NoPowerProfile: {meter}\")\n",
    "        continue\n",
    "\n",
    "Vmax = []\n",
    "for meter in meters_i:\n",
    "    if meter in Vmax_P:\n",
    "        Vmax += Vmax_P[meter][\"Vmax\"]\n",
    "    else:\n",
    "        print(f\"NoVoltageProfile: {meter}\")\n",
    "        continue\n",
    "\n",
    "Pmax = np.array(Pmax)\n",
    "Vmax = np.array(Vmax) / 240       # p.u.\n",
    "reg = stats.linregress(Pmax, Vmax)\n",
    "b = reg.intercept\n",
    "m = reg.slope\n",
    "p = np.linspace(-150, 10, 100)\n",
    "plt.figure(figsize=(8, 2))\n",
    "plt.plot(Pmax, Vmax, 'o')\n",
    "plt.plot(p, m*p + b, \"orange\")\n",
    "plt.plot(-138.015701570157, 1.0499521379808687, \"o\")\n",
    "plt.title('H.C. ModelFree Vmax')\n",
    "plt.xlabel('[kW]')\n",
    "plt.ylabel('[Vpu]')\n",
    "plt.legend([\"V\",\n",
    "            \"linear fit\",\n",
    "            \"(-138.02, 1.05)\"])\n",
    "plt.savefig(\"regfull.pdf\")\n",
    "plt.show()\n"
   ]
  },
  {
   "cell_type": "code",
   "execution_count": 8,
   "metadata": {},
   "outputs": [
    {
     "name": "stdout",
     "output_type": "stream",
     "text": [
      "1.04999916708079 -138.22642264226423\n",
      "1.049992448637944 -138.1963196319632\n",
      "1.049985730195098 -138.16621662166216\n",
      "1.0499790117522523 -138.13611361136114\n",
      "1.0499722933094064 -138.1060106010601\n",
      "1.0499655748665604 -138.07590759075907\n",
      "1.0499588564237146 -138.04580458045805\n",
      "1.0499521379808687 -138.015701570157\n",
      "1.0499454195380227 -137.985598559856\n",
      "1.0499387010951768 -137.95549554955497\n",
      "1.049931982652331 -137.92539253925392\n",
      "1.049925264209485 -137.8952895289529\n",
      "1.0499185457666391 -137.86518651865185\n",
      "1.0499118273237933 -137.83508350835083\n",
      "1.0499051088809475 -137.80498049804982\n"
     ]
    }
   ],
   "source": [
    "# p = np.linspace(-300, 1, 10000)\n",
    "# b = reg.intercept\n",
    "# m = reg.slope\n",
    "\n",
    "# y = lambda x: m*x + b\n",
    "# v = list(map(y, p))\n",
    "# for n, V in enumerate(v):\n",
    "#     if 1.0499 < V < 1.05:\n",
    "#         print(V, p[n])\n",
    "#     # if 0.95 < V < 0.9501:\n",
    "#     #     print(V, p[n])\n"
   ]
  },
  {
   "cell_type": "markdown",
   "metadata": {},
   "source": [
    "Transformer ``TRA1624``\n",
    "\n",
    "m = -0.00022318176085093898"
   ]
  }
 ],
 "metadata": {
  "kernelspec": {
   "display_name": "models",
   "language": "python",
   "name": "python3"
  },
  "language_info": {
   "codemirror_mode": {
    "name": "ipython",
    "version": 3
   },
   "file_extension": ".py",
   "mimetype": "text/x-python",
   "name": "python",
   "nbconvert_exporter": "python",
   "pygments_lexer": "ipython3",
   "version": "3.11.5"
  },
  "orig_nbformat": 4
 },
 "nbformat": 4,
 "nbformat_minor": 2
}
